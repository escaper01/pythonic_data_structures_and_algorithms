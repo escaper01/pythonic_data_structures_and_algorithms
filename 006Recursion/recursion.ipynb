{
 "cells": [
  {
   "cell_type": "code",
   "execution_count": 6,
   "metadata": {},
   "outputs": [
    {
     "data": {
      "text/plain": [
       "'No uppercase character found'"
      ]
     },
     "execution_count": 6,
     "metadata": {},
     "output_type": "execute_result"
    }
   ],
   "source": [
    "def find_uppercase_recursive(input_str):\n",
    "    if len(input_str) < 1:\n",
    "        return \"No uppercase character found\"\n",
    "    elif input_str[0].isupper():\n",
    "        return input_str[0]\n",
    "    else:\n",
    "        return find_uppercase_recursive(input_str[1:])\n",
    "\n",
    "str_1 = \"lucidProgramming\"\n",
    "str_2 = \"LucidProgramming\"\n",
    "str_3 = \"lucidprogramming\"\n",
    "\n",
    "find_uppercase_recursive(str_3)"
   ]
  },
  {
   "cell_type": "code",
   "execution_count": 13,
   "metadata": {},
   "outputs": [
    {
     "data": {
      "text/plain": [
       "3"
      ]
     },
     "execution_count": 13,
     "metadata": {},
     "output_type": "execute_result"
    }
   ],
   "source": [
    "def recursive_str_len(input_str):\n",
    "    # get string length\n",
    "    if input_str == '':\n",
    "        return 0\n",
    "    return 1 + recursive_str_len(input_str[1:])\n",
    "\n",
    "my_str = 'cat'\n",
    "recursive_str_len(my_str)"
   ]
  },
  {
   "cell_type": "code",
   "execution_count": 16,
   "metadata": {},
   "outputs": [
    {
     "data": {
      "text/plain": [
       "9"
      ]
     },
     "execution_count": 16,
     "metadata": {},
     "output_type": "execute_result"
    }
   ],
   "source": [
    "c = [\"a\", \"e\", \"i\", \"o\", \"u\"]\n",
    "def recursive_count_consonants(input_str):\n",
    "    if input_str == '':\n",
    "        return 0\n",
    "    if input_str[0].lower() in c:\n",
    "        return 1 + recursive_count_consonants(input_str[1:])\n",
    "    else:\n",
    "        return recursive_count_consonants(input_str[1:])\n",
    "\n",
    "recursive_count_consonants(\"Welcome to Educative!\")"
   ]
  },
  {
   "cell_type": "code",
   "execution_count": 4,
   "metadata": {},
   "outputs": [
    {
     "data": {
      "text/plain": [
       "15"
      ]
     },
     "execution_count": 4,
     "metadata": {},
     "output_type": "execute_result"
    }
   ],
   "source": [
    "def recursive_multiply(x,y):\n",
    "    if y > x:\n",
    "        return recursive_multiply(y,x)\n",
    "    if y == 0:\n",
    "        return 0\n",
    "    if y > 0:\n",
    "        return x + recursive_multiply(x,y-1)\n",
    "    return -x + recursive_multiply(x,y+1)\n",
    "\n",
    "recursive_multiply(3,5)"
   ]
  },
  {
   "cell_type": "code",
   "execution_count": 5,
   "metadata": {},
   "outputs": [
    {
     "data": {
      "text/plain": [
       "-15"
      ]
     },
     "execution_count": 5,
     "metadata": {},
     "output_type": "execute_result"
    }
   ],
   "source": [
    "recursive_multiply(3,-5)"
   ]
  },
  {
   "cell_type": "code",
   "execution_count": null,
   "metadata": {},
   "outputs": [],
   "source": [
    "def recursive_multiply(x, y):\n",
    "    \n",
    "    if x < y:\n",
    "        return recursive_multiply(y, x)\n",
    "    if y == 0:\n",
    "        return 0\n",
    "    return x + recursive_multiply(x, y-1)"
   ]
  }
 ],
 "metadata": {
  "interpreter": {
   "hash": "b9d52674644347880cbacfd389a9a646d45a7cad5328f73bf3d06ed3ab60f452"
  },
  "kernelspec": {
   "display_name": "Python 3.9.6 ('venv': venv)",
   "language": "python",
   "name": "python3"
  },
  "language_info": {
   "codemirror_mode": {
    "name": "ipython",
    "version": 3
   },
   "file_extension": ".py",
   "mimetype": "text/x-python",
   "name": "python",
   "nbconvert_exporter": "python",
   "pygments_lexer": "ipython3",
   "version": "3.9.6"
  },
  "orig_nbformat": 4
 },
 "nbformat": 4,
 "nbformat_minor": 2
}

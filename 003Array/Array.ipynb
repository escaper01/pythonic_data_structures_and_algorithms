{
 "cells": [
  {
   "cell_type": "markdown",
   "metadata": {},
   "source": [
    "## Arbitrary Precision Increment\n",
    "[1,4,9] --> [1,5,0]\n",
    "[9,9,9] --> [1,0,0,0]\n",
    "### algorithm:\n",
    "1-Add 1 to the rightmost digit.\n",
    "2-Propagate carry throughout the array."
   ]
  },
  {
   "cell_type": "code",
   "execution_count": 8,
   "metadata": {},
   "outputs": [],
   "source": [
    "def plus_one(A):\n",
    "    length = len(A)\n",
    "    current_index = length - 1\n",
    "    hold_one = False\n",
    "\n",
    "    while current_index >= 0:\n",
    "        if current_index == length - 1:\n",
    "            A[current_index] += 1\n",
    "        \n",
    "        if hold_one:\n",
    "            A[current_index] += 1\n",
    "            hold_one = False\n",
    "        \n",
    "        if A[current_index] == 10:\n",
    "            A[current_index] = 0\n",
    "            hold_one = True\n",
    "\n",
    "        if hold_one and current_index == 0:\n",
    "            A = [1, *A]\n",
    "\n",
    "        current_index -= 1\n",
    "    \n",
    "    return A\n",
    "\n",
    "\n",
    "assert plus_one([9,9,9,9]) == [1,0,0,0,0]"
   ]
  },
  {
   "cell_type": "markdown",
   "metadata": {},
   "source": [
    "## Two Sum Problem\n",
    "[-2,1,2,4,7,11] --> True (2,11)\n",
    "### algorithm:\n",
    "Given an array of integers, return True or False if the array has two numbers that add up to a specific target. You may assume that each input would have exactly one solution."
   ]
  },
  {
   "cell_type": "code",
   "execution_count": 9,
   "metadata": {},
   "outputs": [],
   "source": [
    "# Time Complexity: O(n^2)\n",
    "# Space Complexity: O(1)\n",
    "def two_sum_brute_force(A, target):\n",
    "    for i in A:\n",
    "        for j in A:\n",
    "            if i + j == target:\n",
    "                return True\n",
    "    return False\n",
    "\n",
    "\n",
    "assert two_sum_brute_force([-2,1,2,4,7,11],13) == True"
   ]
  },
  {
   "cell_type": "markdown",
   "metadata": {},
   "source": []
  },
  {
   "cell_type": "code",
   "execution_count": 10,
   "metadata": {},
   "outputs": [
    {
     "data": {
      "text/plain": [
       "[2, 11]"
      ]
     },
     "execution_count": 10,
     "metadata": {},
     "output_type": "execute_result"
    }
   ],
   "source": [
    "# Time Complexity: O(n)\n",
    "# Space Complexity: O(n)\n",
    "def two_sum_hash_table(A, target):\n",
    "    history = dict()\n",
    "    for elem in A:\n",
    "        maybe = target - elem\n",
    "        if str(maybe) in history:\n",
    "            return [maybe, elem]\n",
    "        history[str(elem)] = True\n",
    "    return False\n",
    "\n",
    "two_sum_hash_table([-2,1,2,4,7,11],13)"
   ]
  },
  {
   "cell_type": "code",
   "execution_count": 11,
   "metadata": {},
   "outputs": [],
   "source": [
    "# Time Complexity: O(n)\n",
    "# Space Complexity: O(1)\n",
    "def two_sum(A, target):\n",
    "    first = 0\n",
    "    last = len(A) - 1\n",
    "    while True:\n",
    "\n",
    "        current_sum = A[first] + A[last]\n",
    "        if current_sum == target:\n",
    "            return [A[first] , A[last]]\n",
    "        if current_sum < target:\n",
    "            if A[first] > A[last]:\n",
    "                last -= 1\n",
    "            else:\n",
    "                first += 1\n",
    "        if current_sum > target:\n",
    "            if A[first] > A[last]:\n",
    "                first += 1\n",
    "            else:\n",
    "                last -= 1\n",
    "    return False\n",
    "\n",
    "assert two_sum([-2,1,2,4,7,11],13) == [2,11]"
   ]
  },
  {
   "cell_type": "markdown",
   "metadata": {},
   "source": [
    "## Optimal Task Assignment\n",
    "task : [6,3,2,7,5,5] --> for each worker (6,3),(2,6),(5,5)\n",
    "### algorithm\n",
    "Assign tasks to workers so that the time it takes to complete all the tasks is minimized given a count of workers and an array where each element indicates the duration of a task."
   ]
  },
  {
   "cell_type": "code",
   "execution_count": 12,
   "metadata": {},
   "outputs": [
    {
     "name": "stdout",
     "output_type": "stream",
     "text": [
      "2 7\n",
      "3 6\n",
      "5 5\n"
     ]
    }
   ],
   "source": [
    "A = [6, 3, 2, 7, 5, 5]\n",
    "\n",
    "A = sorted(A)\n",
    "\n",
    "for i in range(len(A)//2):\n",
    "    print(A[i],A[len(A)-1-i])"
   ]
  },
  {
   "cell_type": "markdown",
   "metadata": {},
   "source": [
    "## Intersection of Two Sorted Arrays\n",
    "(Array_A:[2,3,3,5,7,11],Array_B:[3,3,7,15,31]) -> [3,7]\n",
    "### algorithm\n",
    "Given two sorted arrays, A and B, determine their intersection.\n",
    "What elements are common to A and B?\n"
   ]
  },
  {
   "cell_type": "code",
   "execution_count": 13,
   "metadata": {},
   "outputs": [
    {
     "name": "stdout",
     "output_type": "stream",
     "text": [
      "{3, 7}\n"
     ]
    }
   ],
   "source": [
    "# Solution 1\n",
    "A = [2, 3, 3, 5, 7, 11]\n",
    "B = [3, 3, 7, 15, 31]\n",
    "\n",
    "print(set(A).intersection(B))"
   ]
  },
  {
   "cell_type": "code",
   "execution_count": 14,
   "metadata": {},
   "outputs": [],
   "source": [
    "# Solution 2\n",
    "def intersect_sorted_array(A, B):\n",
    "    res = []\n",
    "    i = j = 0\n",
    "    while i < len(A) and j < len(B):\n",
    "        current_A = A[i]\n",
    "        current_B = B[j]\n",
    "        if current_A < current_B:\n",
    "            i += 1\n",
    "        elif current_A > current_B:\n",
    "            j += 1\n",
    "        else:\n",
    "            if current_A not in res:\n",
    "                res.append(current_A)\n",
    "            i += 1\n",
    "            j += 1\n",
    "    return res\n",
    "\n",
    "A = [2, 3, 3, 5, 7, 11]\n",
    "B = [3, 3, 7, 15, 31]\n",
    "assert intersect_sorted_array(A, B) == [3,7]"
   ]
  },
  {
   "cell_type": "markdown",
   "metadata": {},
   "source": [
    "## Buy and Sell Stock\n",
    "\n",
    "### algorithm\n",
    "Given an array of numbers consisting of daily stock prices, calculate the maximum amount of profit that can be made from buying on one day and selling on another.\n",
    "In an array of prices, each index represents a day, and the value on that index represents the price of the stocks on that day.\n",
    "Here is the way to calculate the profit:\n",
    "Profit = Selling Price - Buying Price"
   ]
  },
  {
   "cell_type": "code",
   "execution_count": 15,
   "metadata": {},
   "outputs": [],
   "source": [
    "def buy_and_sell_stock_once_brute_force(prices):\n",
    "    max_profit = i= 0\n",
    "    for i in range(1,len(prices)):\n",
    "        for j in range(i):\n",
    "            current_profit = prices[i] - prices[j]\n",
    "            if current_profit >= max_profit:\n",
    "                max_profit = current_profit\n",
    "\n",
    "    return max_profit\n",
    "    \n",
    "prices = [310,315,275,295,260,270,290,230,255,250]\n",
    "assert buy_and_sell_stock_once_brute_force(prices) == 30"
   ]
  }
 ],
 "metadata": {
  "interpreter": {
   "hash": "b9d52674644347880cbacfd389a9a646d45a7cad5328f73bf3d06ed3ab60f452"
  },
  "kernelspec": {
   "display_name": "Python 3.9.6 ('venv': venv)",
   "language": "python",
   "name": "python3"
  },
  "language_info": {
   "codemirror_mode": {
    "name": "ipython",
    "version": 3
   },
   "file_extension": ".py",
   "mimetype": "text/x-python",
   "name": "python",
   "nbconvert_exporter": "python",
   "pygments_lexer": "ipython3",
   "version": "3.9.6"
  },
  "orig_nbformat": 4
 },
 "nbformat": 4,
 "nbformat_minor": 2
}

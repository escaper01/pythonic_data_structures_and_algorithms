{
 "cells": [
  {
   "cell_type": "code",
   "execution_count": 1,
   "metadata": {},
   "outputs": [],
   "source": [
    "def linear_search(data, target):\t\n",
    "\tfor i in range(len(data)):\n",
    "\t\tif data[i] == target:\n",
    "\t\t\treturn True\n",
    "\treturn False"
   ]
  },
  {
   "cell_type": "code",
   "execution_count": 2,
   "metadata": {},
   "outputs": [
    {
     "data": {
      "text/plain": [
       "True"
      ]
     },
     "execution_count": 2,
     "metadata": {},
     "output_type": "execute_result"
    }
   ],
   "source": [
    "def binary_search_iterative(data, target):\n",
    "    left_index = 0\n",
    "    right_index = len(data) - 1\n",
    "\n",
    "    while data != []:\n",
    "        mid = (len(data)) // 2\n",
    "        current = data[mid]\n",
    "        if current > target:\n",
    "            right_index = mid - 1\n",
    "            data = data[:right_index+1]\n",
    "\n",
    "        elif current < target:\n",
    "            left_index = mid + 1 \n",
    "            data = data[left_index:]\n",
    "\n",
    "        elif current == target:\n",
    "            return True\n",
    "    return False\n",
    "\n",
    "ls = [1,2,3,4,5,6,7,8,9,10]\n",
    "binary_search_iterative(ls,10)\n",
    "\n"
   ]
  },
  {
   "cell_type": "code",
   "execution_count": 23,
   "metadata": {},
   "outputs": [
    {
     "data": {
      "text/plain": [
       "False"
      ]
     },
     "execution_count": 23,
     "metadata": {},
     "output_type": "execute_result"
    }
   ],
   "source": [
    "def binary_search_recursive(data, target, low, high):\n",
    "    if low >= high:\n",
    "        return False\n",
    "    mid = len(data) // 2\n",
    "\n",
    "    if data[mid] > target:\n",
    "        data = data[:mid]\n",
    "        return binary_search_recursive(data,target,data[0],data[-1])\n",
    "    if data[mid] < target:\n",
    "        data = data[mid:]\n",
    "        return binary_search_recursive(data,target,data[0],data[-1])\n",
    "    return True\n",
    "\n",
    "ls = [1,2,3,4,5,6,7,8,9,10]\n",
    "binary_search_recursive(ls,0,ls[0],ls[-1])"
   ]
  },
  {
   "cell_type": "code",
   "execution_count": 71,
   "metadata": {},
   "outputs": [
    {
     "data": {
      "text/plain": [
       "5"
      ]
     },
     "execution_count": 71,
     "metadata": {},
     "output_type": "execute_result"
    }
   ],
   "source": [
    "def find_closest_num(data, target):\n",
    "    low = 0\n",
    "    high = len(data) - 1\n",
    "\n",
    "    while low <= high:\n",
    "        mid = (low + high) // 2\n",
    "        left_elem = data[mid-1] if mid-1>=0 else None\n",
    "        right_elem = data[mid+1] if mid+1 < len(data) else None\n",
    "        if target < data[mid]:\n",
    "            high = mid - 1\n",
    "        else:\n",
    "            low = mid + 1\n",
    "    ls = [left_elem, data[mid], right_elem]\n",
    "    closest_num = float('inf')\n",
    "    j = None\n",
    "    for i,num in enumerate(ls):\n",
    "        if num:\n",
    "            tmp = abs(target - num)\n",
    "            if tmp < closest_num:\n",
    "                j, closest_num = i, tmp\n",
    "    return ls[j]\n",
    "\n",
    "ls = [2, 5, 6, 7, 8, 8, 9]\n",
    "find_closest_num(ls,4)"
   ]
  },
  {
   "cell_type": "code",
   "execution_count": 1,
   "metadata": {},
   "outputs": [
    {
     "data": {
      "text/plain": [
       "3"
      ]
     },
     "execution_count": 1,
     "metadata": {},
     "output_type": "execute_result"
    }
   ],
   "source": [
    "def find_fixed_point(data):\n",
    "    low = 0\n",
    "    high = len(data) - 1\n",
    "\n",
    "    while low <= high:\n",
    "        mid = (low + high) // 2\n",
    "        # print(data[mid],mid)\n",
    "        if mid == data[mid]:\n",
    "            return mid\n",
    "\n",
    "        elif data[mid] < mid:\n",
    "            low = mid + 1\n",
    "        else:\n",
    "            high = mid - 1\n",
    "    return None\n",
    "ls = [-10,-5,0,3,7]\n",
    "# ls = [0,2,5,8,17]\n",
    "# ls = [0,2,5,5,5,5] --> only distincts elements\n",
    "find_fixed_point(ls)"
   ]
  },
  {
   "cell_type": "code",
   "execution_count": 131,
   "metadata": {},
   "outputs": [
    {
     "data": {
      "text/plain": [
       "8"
      ]
     },
     "execution_count": 131,
     "metadata": {},
     "output_type": "execute_result"
    }
   ],
   "source": [
    "def find_highest_number(data):\n",
    "    low = 0\n",
    "    high = len(data) - 1\n",
    "\n",
    "    while len(data) >= 3:\n",
    "        mid = len(data) // 2\n",
    "        cur = data[mid]\n",
    "        \n",
    "        left_elem = data[mid - 1]\n",
    "        right_elem = data[mid + 1]\n",
    "\n",
    "        if left_elem <= cur and right_elem <= cur:\n",
    "            return cur\n",
    "        elif right_elem <= cur:\n",
    "            high = mid\n",
    "            data = data[:high]\n",
    "        else:\n",
    "            low = mid\n",
    "            data = data[low:]\n",
    "    return data[1]\n",
    "\n",
    "\n",
    "ls = [1,8, 7, 6, 5, 4, 3, 2, 1]\n",
    "find_highest_number(ls)\n"
   ]
  },
  {
   "cell_type": "code",
   "execution_count": 142,
   "metadata": {},
   "outputs": [
    {
     "data": {
      "text/plain": [
       "3"
      ]
     },
     "execution_count": 142,
     "metadata": {},
     "output_type": "execute_result"
    }
   ],
   "source": [
    "def find(A, target):\n",
    "    # return first index occurence\n",
    "    low = 0\n",
    "    high = len(A) - 1\n",
    "\n",
    "    while low <= high:\n",
    "        mid = (low + high) // 2\n",
    "\n",
    "        if A[mid] < target:\n",
    "            low = mid + 1\n",
    "        elif A[mid] > target:\n",
    "            high = mid - 1\n",
    "        else:\n",
    "            if mid - 1 < 0:\n",
    "                return mid\n",
    "            if A[mid - 1] != target:\n",
    "                return mid\n",
    "            high = mid - 1\n",
    "\n",
    "ls = [-14, -10, 2, 108, 108, 243, 285, 285, 285, 401]\n",
    "find(ls, 108)\n",
    "        "
   ]
  },
  {
   "cell_type": "code",
   "execution_count": 143,
   "metadata": {},
   "outputs": [
    {
     "name": "stdout",
     "output_type": "stream",
     "text": [
      "[-14, -10, 2, 108, 108, 243, 285, 285, 285, 401]\n",
      "[-14, -10, 2, 108, 108, 108, 243, 285, 285, 285, 401]\n",
      "[-14, -10, 2, 108, 108, 108, 108, 243, 285, 285, 285, 401]\n"
     ]
    }
   ],
   "source": [
    "# Import allows us to make use of the bisect module.\n",
    "import bisect\n",
    "\n",
    "# This sorted list will be used throughout this lesson\n",
    "# to showcase the functionality of the \"bisect\" method.\n",
    "A = [-14, -10, 2, 108, 108, 243, 285, 285, 285, 401]\n",
    "\n",
    "\n",
    "print(A)\n",
    "bisect.insort_left(A, 108)\n",
    "print(A)\n",
    "\n",
    "bisect.insort_right(A, 108)\n",
    "print(A)"
   ]
  },
  {
   "cell_type": "code",
   "execution_count": 150,
   "metadata": {},
   "outputs": [
    {
     "name": "stdout",
     "output_type": "stream",
     "text": [
      "1\n",
      "2\n",
      "2\n",
      "[-14, -10, 2, 108, 108, 243, 285, 285, 285, 401]\n"
     ]
    }
   ],
   "source": [
    "# Import allows us to make use of the bisect module.\n",
    "import bisect\n",
    "\n",
    "# This sorted list will be used throughout this lesson\n",
    "# to showcase the functionality of the \"bisect\" method.\n",
    "A = [-14, -10, 2, 108, 108, 243, 285, 285, 285, 401]\n",
    "\n",
    "# Index position to right of -10 is 2. (Same as bisect_right)\n",
    "print(bisect.bisect_left(A, -10)) \n",
    "\n",
    "# Index position after last occurrence of 285 is 9. (Same as bisect_right).\n",
    "print(bisect.bisect_right(A, -10))\n",
    "print(bisect.bisect(A, -10))\n",
    "\n",
    "# print(A)"
   ]
  },
  {
   "cell_type": "code",
   "execution_count": 2,
   "metadata": {},
   "outputs": [
    {
     "data": {
      "text/plain": [
       "31"
      ]
     },
     "execution_count": 2,
     "metadata": {},
     "output_type": "execute_result"
    }
   ],
   "source": [
    "def integer_square_root(k):\n",
    "    mid = k // 2\n",
    "    low = 0\n",
    "    high = k\n",
    "    while low<high:\n",
    "        mid = (high + low) // 2\n",
    "        cur = mid ** 2\n",
    "        if cur == k:\n",
    "            return mid\n",
    "        elif cur < k:\n",
    "            low = mid + 1\n",
    "        else:\n",
    "            high = mid - 1\n",
    "    return low - 1\n",
    "\n",
    "integer_square_root(1000)"
   ]
  },
  {
   "cell_type": "code",
   "execution_count": 3,
   "metadata": {},
   "outputs": [
    {
     "data": {
      "text/plain": [
       "2"
      ]
     },
     "execution_count": 3,
     "metadata": {},
     "output_type": "execute_result"
    }
   ],
   "source": [
    "def find_smallest(A):\n",
    "    low = 0\n",
    "    high = len(A) - 1\n",
    "\n",
    "    while low < high:\n",
    "        mid = (low + high) // 2\n",
    "\n",
    "        if A[mid] > A[high]:\n",
    "            low = mid + 1\n",
    "        elif A[mid] <= A[high]:\n",
    "            high = mid\n",
    "\n",
    "    return low\n",
    "\n",
    "ls = [6, 7, 1, 2, 3, 4, 5]\n",
    "find_smallest(ls)\n"
   ]
  },
  {
   "cell_type": "code",
   "execution_count": null,
   "metadata": {},
   "outputs": [],
   "source": []
  }
 ],
 "metadata": {
  "interpreter": {
   "hash": "b9d52674644347880cbacfd389a9a646d45a7cad5328f73bf3d06ed3ab60f452"
  },
  "kernelspec": {
   "display_name": "Python 3.9.6 ('venv': venv)",
   "language": "python",
   "name": "python3"
  },
  "language_info": {
   "codemirror_mode": {
    "name": "ipython",
    "version": 3
   },
   "file_extension": ".py",
   "mimetype": "text/x-python",
   "name": "python",
   "nbconvert_exporter": "python",
   "pygments_lexer": "ipython3",
   "version": "3.9.6"
  },
  "orig_nbformat": 4
 },
 "nbformat": 4,
 "nbformat_minor": 2
}

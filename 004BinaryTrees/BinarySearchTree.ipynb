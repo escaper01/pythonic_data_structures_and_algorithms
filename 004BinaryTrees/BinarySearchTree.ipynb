{
 "cells": [
  {
   "cell_type": "code",
   "execution_count": 5,
   "metadata": {},
   "outputs": [
    {
     "data": {
      "text/plain": [
       "True"
      ]
     },
     "execution_count": 5,
     "metadata": {},
     "output_type": "execute_result"
    }
   ],
   "source": [
    "class Node(object):\n",
    "    def __init__(self, data):\n",
    "        self.data = data\n",
    "        self.left = None\n",
    "        self.right = None\n",
    "\n",
    "\n",
    "class BST(object):\n",
    "    def __init__(self, root):\n",
    "        self.root = Node(root)\n",
    "\n",
    "    def insert(self, val):\n",
    "        new_node = Node(val)\n",
    "\n",
    "        current_node = self.root\n",
    "        while True:\n",
    "            if new_node.data > current_node.data:\n",
    "                if current_node.right:\n",
    "                    current_node = current_node.right\n",
    "                else:\n",
    "                    current_node.right = new_node\n",
    "                    break\n",
    "            else:\n",
    "                if current_node.left:\n",
    "                    current_node = current_node.left\n",
    "                else:\n",
    "                    current_node.left = new_node\n",
    "                    break\n",
    "    \n",
    "    def search(self,val):\n",
    "        current_node = self.root\n",
    "\n",
    "        while current_node:\n",
    "            if current_node.data == val:\n",
    "                return True\n",
    "\n",
    "            if current_node.data > val:\n",
    "                current_node = current_node.left\n",
    "            else:\n",
    "                current_node = current_node.right\n",
    "        return False\n",
    "    \n",
    "    \n",
    "    def is_bst_satisfied(self):\n",
    "        def helper(node, min_, max_):\n",
    "            if not node:\n",
    "                return True\n",
    "            if node.data < min_ or node.data > max_:\n",
    "                return False\n",
    "            return helper(node.left,min_, node.data-1) and helper(node.right,node.data+1, max_)\n",
    "\n",
    "        \n",
    "        min_ = float('-inf')\n",
    "        max_ = float('inf')\n",
    "        if helper(self.root, min_, max_):\n",
    "            return True\n",
    "        return False\n",
    "\n",
    "\n",
    "\n",
    "ls = [3,10,1,6]\n",
    "bst = BST(8)\n",
    "\n",
    "for elem in ls:\n",
    "    bst.insert(elem)\n",
    "# in_order(bst.root,\" \")\n",
    "\n",
    "# bst.search(99)\n",
    "bst.is_bst_satisfied()"
   ]
  },
  {
   "cell_type": "code",
   "execution_count": null,
   "metadata": {},
   "outputs": [],
   "source": []
  }
 ],
 "metadata": {
  "interpreter": {
   "hash": "b9d52674644347880cbacfd389a9a646d45a7cad5328f73bf3d06ed3ab60f452"
  },
  "kernelspec": {
   "display_name": "Python 3.9.6 ('venv': venv)",
   "language": "python",
   "name": "python3"
  },
  "language_info": {
   "codemirror_mode": {
    "name": "ipython",
    "version": 3
   },
   "file_extension": ".py",
   "mimetype": "text/x-python",
   "name": "python",
   "nbconvert_exporter": "python",
   "pygments_lexer": "ipython3",
   "version": "3.9.6"
  },
  "orig_nbformat": 4
 },
 "nbformat": 4,
 "nbformat_minor": 2
}

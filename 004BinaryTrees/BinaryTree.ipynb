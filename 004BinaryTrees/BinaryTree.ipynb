{
 "cells": [
  {
   "cell_type": "code",
   "execution_count": 13,
   "metadata": {},
   "outputs": [],
   "source": [
    "class Node(object):\n",
    "  def __init__(self, value):\n",
    "    self.value = value\n",
    "    self.left = None\n",
    "    self.right = None\n",
    "    \n",
    "class BinaryTree(object):\n",
    "  def __init__(self, root):\n",
    "    self.root = Node(root)\n",
    "\n",
    "\n",
    "tree = BinaryTree(1)\n",
    "tree.root.left = Node(2)\n",
    "tree.root.right = Node(3)\n",
    "tree.root.left.left = Node(4)\n",
    "tree.root.left.right = Node(5)\n",
    "tree.root.right.left = Node(6)\n",
    "tree.root.right.right = Node(7)"
   ]
  },
  {
   "cell_type": "markdown",
   "metadata": {},
   "source": [
    "### Tree Traversal"
   ]
  },
  {
   "cell_type": "markdown",
   "metadata": {},
   "source": [
    "### DEPTH-FIRST SEARCH"
   ]
  },
  {
   "cell_type": "code",
   "execution_count": 14,
   "metadata": {},
   "outputs": [
    {
     "data": {
      "text/plain": [
       "' 1 | 2 | 4 | 5 | 3 | 6 | 7 | '"
      ]
     },
     "execution_count": 14,
     "metadata": {},
     "output_type": "execute_result"
    }
   ],
   "source": [
    "# IN ORDER\n",
    "def pre_order(node,traversal):\n",
    "    if node:\n",
    "        traversal += str(node.value) + ' | '\n",
    "        traversal = pre_order(node.left, traversal)\n",
    "        traversal = pre_order(node.right, traversal)\n",
    "    return traversal\n",
    "\n",
    "\n",
    "pre_order(tree.root,\" \")"
   ]
  },
  {
   "cell_type": "code",
   "execution_count": 15,
   "metadata": {},
   "outputs": [
    {
     "data": {
      "text/plain": [
       "' 4 | 2 | 5 | 1 | 6 | 3 | 7 | '"
      ]
     },
     "execution_count": 15,
     "metadata": {},
     "output_type": "execute_result"
    }
   ],
   "source": [
    "# IN ORDER\n",
    "def in_order(node,traversal):\n",
    "    if node:\n",
    "        traversal = in_order(node.left, traversal)\n",
    "        traversal += str(node.value) + ' | '\n",
    "        traversal = in_order(node.right, traversal)\n",
    "    return traversal\n",
    "\n",
    "\n",
    "in_order(tree.root,\" \")    "
   ]
  },
  {
   "cell_type": "code",
   "execution_count": 16,
   "metadata": {},
   "outputs": [
    {
     "data": {
      "text/plain": [
       "' 4 | 5 | 2 | 6 | 7 | 3 | 1 | '"
      ]
     },
     "execution_count": 16,
     "metadata": {},
     "output_type": "execute_result"
    }
   ],
   "source": [
    "# IN ORDER\n",
    "def post_order(node,traversal):\n",
    "    if node:\n",
    "        traversal = post_order(node.left, traversal)\n",
    "        traversal = post_order(node.right, traversal)\n",
    "        traversal += str(node.value) + ' | '\n",
    "    return traversal\n",
    "\n",
    "post_order(tree.root,\" \")"
   ]
  },
  {
   "cell_type": "markdown",
   "metadata": {},
   "source": [
    "### BREADTH-FIRST SEARCH"
   ]
  },
  {
   "cell_type": "code",
   "execution_count": 17,
   "metadata": {},
   "outputs": [
    {
     "data": {
      "text/plain": [
       "'1 | 2 | 3 | 4 | 5 | 6 | 7 | '"
      ]
     },
     "execution_count": 17,
     "metadata": {},
     "output_type": "execute_result"
    }
   ],
   "source": [
    "def breadth_first_traversal(node): # Level _ Order _ Traversal\n",
    "    s = ''\n",
    "    queue = []\n",
    "    queue.append(node)\n",
    "\n",
    "    while(len(queue) > 0):\n",
    "        last_elem = queue.pop(0)\n",
    "\n",
    "        s += str(last_elem.value) + ' | '\n",
    "\n",
    "        if last_elem.left:\n",
    "            queue.append(last_elem.left)\n",
    "\n",
    "        if last_elem.right:\n",
    "            queue.append(last_elem.right)\n",
    "    return s\n",
    "\n",
    "breadth_first_traversal(tree.root)"
   ]
  },
  {
   "cell_type": "code",
   "execution_count": 18,
   "metadata": {},
   "outputs": [],
   "source": [
    "tree = BinaryTree(1)                #          1\n",
    "tree.root.left = Node(2)            #        /   \\\n",
    "tree.root.right = Node(3)           #      2       3\n",
    "tree.root.left.left = Node(4)       #    /   \\\n",
    "tree.root.left.right = Node(5)      #   4     5"
   ]
  },
  {
   "cell_type": "code",
   "execution_count": 19,
   "metadata": {},
   "outputs": [
    {
     "data": {
      "text/plain": [
       "'4 | 5 | 2 | 3 | 1 | '"
      ]
     },
     "execution_count": 19,
     "metadata": {},
     "output_type": "execute_result"
    }
   ],
   "source": [
    "def reverse_level_order_traversal(node):\n",
    "    s = ''\n",
    "    queue = [node]\n",
    "    stack = []\n",
    "    while len(queue)> 0:\n",
    "        elem = queue.pop()\n",
    "        stack.append(elem)\n",
    "        if elem.left:\n",
    "            queue.append(elem.left)\n",
    "        \n",
    "        if elem.right:\n",
    "            queue.append(elem.right)\n",
    "    while stack != []:\n",
    "        s += str(stack.pop().value) + ' | '\n",
    "    return s\n",
    "\n",
    "reverse_level_order_traversal(tree.root)"
   ]
  },
  {
   "cell_type": "code",
   "execution_count": 20,
   "metadata": {},
   "outputs": [
    {
     "data": {
      "text/plain": [
       "3"
      ]
     },
     "execution_count": 20,
     "metadata": {},
     "output_type": "execute_result"
    }
   ],
   "source": [
    "def height(node):\n",
    "    if not node.left:\n",
    "        return 1\n",
    "    if not node.right:\n",
    "        return 1\n",
    "    return 1 + max(height(node.left),height(node.right))\n",
    "height(tree.root)   "
   ]
  },
  {
   "cell_type": "code",
   "execution_count": 21,
   "metadata": {},
   "outputs": [
    {
     "data": {
      "text/plain": [
       "5"
      ]
     },
     "execution_count": 21,
     "metadata": {},
     "output_type": "execute_result"
    }
   ],
   "source": [
    "def size_recursive(node):\n",
    "    if not node:\n",
    "        return 0\n",
    "    left_side = size_recursive(node.left)\n",
    "    right_side = size_recursive(node.right)\n",
    "    return 1 + left_side + right_side\n",
    "\n",
    "size_recursive(tree.root)"
   ]
  },
  {
   "cell_type": "code",
   "execution_count": 22,
   "metadata": {},
   "outputs": [
    {
     "data": {
      "text/plain": [
       "5"
      ]
     },
     "execution_count": 22,
     "metadata": {},
     "output_type": "execute_result"
    }
   ],
   "source": [
    "def size_recursive(node):\n",
    "    ls = [node]\n",
    "    count = 0\n",
    "    while len(ls) > 0:\n",
    "        last_elem = ls.pop()\n",
    "        count += 1\n",
    "        if last_elem.left:\n",
    "            ls.append(last_elem.left)\n",
    "        if last_elem.right:\n",
    "            ls.append(last_elem.right)\n",
    "    return count\n",
    "size_recursive(tree.root)"
   ]
  }
 ],
 "metadata": {
  "interpreter": {
   "hash": "b9d52674644347880cbacfd389a9a646d45a7cad5328f73bf3d06ed3ab60f452"
  },
  "kernelspec": {
   "display_name": "Python 3.9.6 ('venv': venv)",
   "language": "python",
   "name": "python3"
  },
  "language_info": {
   "codemirror_mode": {
    "name": "ipython",
    "version": 3
   },
   "file_extension": ".py",
   "mimetype": "text/x-python",
   "name": "python",
   "nbconvert_exporter": "python",
   "pygments_lexer": "ipython3",
   "version": "3.9.6"
  },
  "orig_nbformat": 4
 },
 "nbformat": 4,
 "nbformat_minor": 2
}
